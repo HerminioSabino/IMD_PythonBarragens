{
  "nbformat": 4,
  "nbformat_minor": 0,
  "metadata": {
    "colab": {
      "name": "Ler_Dados_CSV_Internet.ipynb",
      "provenance": [],
      "collapsed_sections": [],
      "mount_file_id": "https://gist.github.com/HerminioSabino/9c5b0dcab71837bbfa3c58b0d7f5b290#file-ler_dados_csv_internet-ipynb",
      "authorship_tag": "ABX9TyPNdX74p7DM6Qnm138xgb2p",
      "include_colab_link": true
    },
    "kernelspec": {
      "name": "python3",
      "display_name": "Python 3"
    }
  },
  "cells": [
    {
      "cell_type": "markdown",
      "metadata": {
        "id": "view-in-github",
        "colab_type": "text"
      },
      "source": [
        "<a href=\"https://colab.research.google.com/github/HerminioSabino/IMD_PythonBarragens/blob/master/Ler_Dados_CSV_Internet.ipynb\" target=\"_parent\"><img src=\"https://colab.research.google.com/assets/colab-badge.svg\" alt=\"Open In Colab\"/></a>"
      ]
    },
    {
      "cell_type": "code",
      "metadata": {
        "id": "iwd_x9ch0Acw",
        "colab_type": "code",
        "colab": {}
      },
      "source": [
        "## Importando as bibliotecas \n",
        "import matplotlib.pyplot as plt\n",
        "import numpy as np\n",
        "import pandas as pd\n",
        "import seaborn as sns"
      ],
      "execution_count": 61,
      "outputs": []
    },
    {
      "cell_type": "code",
      "metadata": {
        "id": "LwU1Iput24qj",
        "colab_type": "code",
        "colab": {}
      },
      "source": [
        "### Importar o csv direto do google driver!!!!\n",
        "df = pd.read_table('/content/drive/My Drive/Colab/Relatorio_BarragensBR2.txt',encoding='latin-1', sep=\";\" )"
      ],
      "execution_count": 4,
      "outputs": []
    },
    {
      "cell_type": "code",
      "metadata": {
        "id": "dMUo_RFX-tuO",
        "colab_type": "code",
        "colab": {}
      },
      "source": [
        "### Selecionar apenas o estado de interesse!!!\n",
        "rn = df[df['UF']=='RN']"
      ],
      "execution_count": 6,
      "outputs": []
    },
    {
      "cell_type": "code",
      "metadata": {
        "id": "B2LD4_iVFSF3",
        "colab_type": "code",
        "colab": {
          "base_uri": "https://localhost:8080/",
          "height": 255
        },
        "outputId": "bf750e47-2019-4787-8eb5-f02c0831d3a8"
      },
      "source": [
        "### Mostrar os nomes das colunas\n",
        "rn.columns.values "
      ],
      "execution_count": 7,
      "outputs": [
        {
          "output_type": "execute_result",
          "data": {
            "text/plain": [
              "array(['Código_SNISB ', 'Nome_da_Barragem', 'Nome_Secundário ',\n",
              "       'Uso_Principal', 'UF', 'Município ', 'Categoria_de_Risco',\n",
              "       'Dano_Potencial_Associado', 'Nome_do_Empreendedor',\n",
              "       'Órgão_Fiscalizador  ', 'Código_Barragem_Fiscalizador ',\n",
              "       'Regulada_pela_PNSB', 'Número_da_Autorização   ', 'Possui_PAE',\n",
              "       'Possui_Plano_de_SeguranÃ§a  ', 'Possui_Revisão_Periódica  ',\n",
              "       'Data_da_Última_Fiscalização   ', 'Barragem_Autuada',\n",
              "       'Altura_Fundação_m  ', 'Altura_Terreno_m', 'Capacidade_hm³ ',\n",
              "       'Comprimento_Coroamento_m', 'Tipo_de_Material', 'Uso_Complementar',\n",
              "       'Classe_de_Resíduo ', 'Curso_Dágua_Barrado ',\n",
              "       'Região_Hidrográfica  ', 'Unidade_de_Gestão ',\n",
              "       'Data_da_Última_Inspeção   ', 'Tipo_da_Última_Inspeção   ',\n",
              "       'Nível_de_Perigo_Global ', 'Possui_Eclusa', 'Fase_da_Vida',\n",
              "       'Latitude', 'Longitude', 'Completude'], dtype=object)"
            ]
          },
          "metadata": {
            "tags": []
          },
          "execution_count": 7
        }
      ]
    },
    {
      "cell_type": "code",
      "metadata": {
        "id": "JbT4uowYyhpl",
        "colab_type": "code",
        "colab": {}
      },
      "source": [
        "## Criar uma lista com os nomes das colunas para seleção\n",
        "ColSelect = ['Nome_da_Barragem','Uso_Principal', 'UF', 'Município ', 'Categoria_de_Risco',\n",
        "       'Dano_Potencial_Associado','Regulada_pela_PNSB','Possui_PAE','Possui_Plano_de_SeguranÃ§a  ', \n",
        "       'Possui_Revisão_Periódica  ','Data_da_Última_Fiscalização   ', 'Barragem_Autuada','Altura_Fundação_m  ', \n",
        "       'Capacidade_hm³ ', 'Uso_Complementar','Classe_de_Resíduo ', 'Curso_Dágua_Barrado ',\n",
        "       'Data_da_Última_Inspeção   ', 'Tipo_da_Última_Inspeção   ','Nível_de_Perigo_Global ','Latitude', 'Longitude']"
      ],
      "execution_count": 9,
      "outputs": []
    },
    {
      "cell_type": "code",
      "metadata": {
        "id": "3LY-QBLIz1Wf",
        "colab_type": "code",
        "colab": {}
      },
      "source": [
        "### Selecionar apenas as colunas desejadas \n",
        "RNSelecionadas= rn[ColSelect]"
      ],
      "execution_count": 11,
      "outputs": []
    },
    {
      "cell_type": "code",
      "metadata": {
        "id": "T8020zW00Yku",
        "colab_type": "code",
        "colab": {}
      },
      "source": [
        "RNSelecionadas"
      ],
      "execution_count": null,
      "outputs": []
    },
    {
      "cell_type": "code",
      "metadata": {
        "id": "KbOcvgqj0Zr2",
        "colab_type": "code",
        "colab": {}
      },
      "source": [
        "### Tirar uma coluna para análise dos dados\n",
        "Usos = RNSelecionadas['Uso_Principal']\n",
        "DanoPotencial = RNSelecionadas['Dano_Potencial_Associado']"
      ],
      "execution_count": 117,
      "outputs": []
    },
    {
      "cell_type": "code",
      "metadata": {
        "id": "O1YAPcwT50HK",
        "colab_type": "code",
        "colab": {
          "base_uri": "https://localhost:8080/",
          "height": 403
        },
        "outputId": "63803e17-4655-4461-a2e2-e4ecb32dbf5d"
      },
      "source": [
        "### Criar Gráfico de barras com cada tipo de uso\n",
        "Usos.value_counts()[:10].plot(kind='bar')\n",
        "#DanoPotencial.value_counts()[:10].plot(kind='bar')"
      ],
      "execution_count": 120,
      "outputs": [
        {
          "output_type": "execute_result",
          "data": {
            "text/plain": [
              "<matplotlib.axes._subplots.AxesSubplot at 0x7faaf0e421d0>"
            ]
          },
          "metadata": {
            "tags": []
          },
          "execution_count": 120
        },
        {
          "output_type": "display_data",
          "data": {
            "image/png": "[encoded data removed]",
            "text/plain": [
              "<Figure size 432x288 with 1 Axes>"
            ]
          },
          "metadata": {
            "tags": [],
            "needs_background": "light"
          }
        }
      ]
    },
    {
      "cell_type": "code",
      "metadata": {
        "id": "e7GLrRY5103p",
        "colab_type": "code",
        "colab": {}
      },
      "source": [
        "## Fazer o histograma com os dados selecionados\n",
        "Usos.hist(bins=30)"
      ],
      "execution_count": null,
      "outputs": []
    },
    {
      "cell_type": "code",
      "metadata": {
        "id": "BKjfpg1m2o69",
        "colab_type": "code",
        "colab": {}
      },
      "source": [
        "### Tirar o percentual para cada uso\n",
        "percUsos = [100*x/DisUsos.sum() for x in DisUsos]"
      ],
      "execution_count": 38,
      "outputs": []
    },
    {
      "cell_type": "code",
      "metadata": {
        "id": "A0CSlTKg6BF2",
        "colab_type": "code",
        "colab": {
          "base_uri": "https://localhost:8080/",
          "height": 136
        },
        "outputId": "33ab7e23-ed2a-42ad-d8b2-b7987fa4586c"
      },
      "source": [
        "### Mostrar os percentuais\n",
        "percUsos"
      ],
      "execution_count": 39,
      "outputs": [
        {
          "output_type": "execute_result",
          "data": {
            "text/plain": [
              "[48.99135446685879,\n",
              " 39.76945244956772,\n",
              " 8.069164265129682,\n",
              " 1.440922190201729,\n",
              " 1.440922190201729,\n",
              " 0.1440922190201729,\n",
              " 0.1440922190201729]"
            ]
          },
          "metadata": {
            "tags": []
          },
          "execution_count": 39
        }
      ]
    }
  ]
}